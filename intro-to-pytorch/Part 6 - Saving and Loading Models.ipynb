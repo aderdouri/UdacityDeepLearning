{
  "cells": [
    {
      "cell_type": "markdown",
      "metadata": {
        "id": "view-in-github",
        "colab_type": "text"
      },
      "source": [
        "<a href=\"https://colab.research.google.com/github/aderdouri/UdacityDeepLearning/blob/master/intro-to-pytorch/Part%206%20-%20Saving%20and%20Loading%20Models.ipynb\" target=\"_parent\"><img src=\"https://colab.research.google.com/assets/colab-badge.svg\" alt=\"Open In Colab\"/></a>"
      ]
    },
    {
      "cell_type": "markdown",
      "metadata": {
        "id": "l8lkJLI7sGt9"
      },
      "source": [
        "# Saving and Loading Models\n",
        "\n",
        "In this notebook, I'll show you how to save and load models with PyTorch. This is important because you'll often want to load previously trained models to use in making predictions or to continue training on new data."
      ]
    },
    {
      "cell_type": "code",
      "execution_count": 9,
      "metadata": {
        "id": "TpCaESd7sGt_"
      },
      "outputs": [],
      "source": [
        "%matplotlib inline\n",
        "%config InlineBackend.figure_format = 'retina'\n",
        "\n",
        "import matplotlib.pyplot as plt\n",
        "\n",
        "import torch\n",
        "from torch import nn\n",
        "from torch import optim\n",
        "import torch.nn.functional as F\n",
        "from torchvision import datasets, transforms\n",
        "import helper\n",
        "import fc_model"
      ]
    },
    {
      "cell_type": "code",
      "source": [
        "import importlib\n",
        "!wget https://raw.githubusercontent.com/aderdouri/UdacityDeepLearning/master/intro-to-pytorch/helper.py\n",
        "importlib.reload(helper)"
      ],
      "metadata": {
        "id": "qaJyO4FAszqQ",
        "outputId": "da7ae4ac-0fce-485e-9dbc-69a3b08551d2",
        "colab": {
          "base_uri": "https://localhost:8080/"
        }
      },
      "execution_count": 10,
      "outputs": [
        {
          "output_type": "stream",
          "name": "stdout",
          "text": [
            "--2023-07-08 18:47:28--  https://raw.githubusercontent.com/aderdouri/UdacityDeepLearning/master/intro-to-pytorch/helper.py\n",
            "Resolving raw.githubusercontent.com (raw.githubusercontent.com)... 185.199.108.133, 185.199.111.133, 185.199.110.133, ...\n",
            "Connecting to raw.githubusercontent.com (raw.githubusercontent.com)|185.199.108.133|:443... connected.\n",
            "HTTP request sent, awaiting response... 200 OK\n",
            "Length: 2813 (2.7K) [text/plain]\n",
            "Saving to: ‘helper.py.1’\n",
            "\n",
            "\rhelper.py.1           0%[                    ]       0  --.-KB/s               \rhelper.py.1         100%[===================>]   2.75K  --.-KB/s    in 0s      \n",
            "\n",
            "2023-07-08 18:47:28 (44.0 MB/s) - ‘helper.py.1’ saved [2813/2813]\n",
            "\n"
          ]
        },
        {
          "output_type": "execute_result",
          "data": {
            "text/plain": [
              "<module 'helper' from '/content/helper.py'>"
            ]
          },
          "metadata": {},
          "execution_count": 10
        }
      ]
    },
    {
      "cell_type": "code",
      "source": [
        "import importlib\n",
        "!wget https://raw.githubusercontent.com/aderdouri/UdacityDeepLearning/master/intro-to-pytorch/fc_model.py\n",
        "importlib.reload(fc_model)"
      ],
      "metadata": {
        "id": "IN5zHMyms2VX",
        "outputId": "49bb6b81-27e9-472d-a7d2-6db770b68990",
        "colab": {
          "base_uri": "https://localhost:8080/"
        }
      },
      "execution_count": 11,
      "outputs": [
        {
          "output_type": "stream",
          "name": "stdout",
          "text": [
            "--2023-07-08 18:47:30--  https://raw.githubusercontent.com/aderdouri/UdacityDeepLearning/master/intro-to-pytorch/fc_model.py\n",
            "Resolving raw.githubusercontent.com (raw.githubusercontent.com)... 185.199.108.133, 185.199.109.133, 185.199.110.133, ...\n",
            "Connecting to raw.githubusercontent.com (raw.githubusercontent.com)|185.199.108.133|:443... connected.\n",
            "HTTP request sent, awaiting response... 200 OK\n",
            "Length: 3543 (3.5K) [text/plain]\n",
            "Saving to: ‘fc_model.py.2’\n",
            "\n",
            "\rfc_model.py.2         0%[                    ]       0  --.-KB/s               \rfc_model.py.2       100%[===================>]   3.46K  --.-KB/s    in 0s      \n",
            "\n",
            "2023-07-08 18:47:30 (42.3 MB/s) - ‘fc_model.py.2’ saved [3543/3543]\n",
            "\n"
          ]
        },
        {
          "output_type": "execute_result",
          "data": {
            "text/plain": [
              "<module 'fc_model' from '/content/fc_model.py'>"
            ]
          },
          "metadata": {},
          "execution_count": 11
        }
      ]
    },
    {
      "cell_type": "code",
      "execution_count": 12,
      "metadata": {
        "id": "rb3VJB2LsGuB",
        "outputId": "1f2df4d5-af58-4354-f2c5-f8d028ee153e",
        "colab": {
          "base_uri": "https://localhost:8080/"
        }
      },
      "outputs": [
        {
          "output_type": "stream",
          "name": "stdout",
          "text": [
            "Downloading http://fashion-mnist.s3-website.eu-central-1.amazonaws.com/train-images-idx3-ubyte.gz\n",
            "Downloading http://fashion-mnist.s3-website.eu-central-1.amazonaws.com/train-images-idx3-ubyte.gz to /root/.pytorch/F_MNIST_data/FashionMNIST/raw/train-images-idx3-ubyte.gz\n"
          ]
        },
        {
          "output_type": "stream",
          "name": "stderr",
          "text": [
            "100%|██████████| 26421880/26421880 [00:02<00:00, 11856873.76it/s]\n"
          ]
        },
        {
          "output_type": "stream",
          "name": "stdout",
          "text": [
            "Extracting /root/.pytorch/F_MNIST_data/FashionMNIST/raw/train-images-idx3-ubyte.gz to /root/.pytorch/F_MNIST_data/FashionMNIST/raw\n",
            "\n",
            "Downloading http://fashion-mnist.s3-website.eu-central-1.amazonaws.com/train-labels-idx1-ubyte.gz\n",
            "Downloading http://fashion-mnist.s3-website.eu-central-1.amazonaws.com/train-labels-idx1-ubyte.gz to /root/.pytorch/F_MNIST_data/FashionMNIST/raw/train-labels-idx1-ubyte.gz\n"
          ]
        },
        {
          "output_type": "stream",
          "name": "stderr",
          "text": [
            "100%|██████████| 29515/29515 [00:00<00:00, 200344.52it/s]\n"
          ]
        },
        {
          "output_type": "stream",
          "name": "stdout",
          "text": [
            "Extracting /root/.pytorch/F_MNIST_data/FashionMNIST/raw/train-labels-idx1-ubyte.gz to /root/.pytorch/F_MNIST_data/FashionMNIST/raw\n",
            "\n",
            "Downloading http://fashion-mnist.s3-website.eu-central-1.amazonaws.com/t10k-images-idx3-ubyte.gz\n",
            "Downloading http://fashion-mnist.s3-website.eu-central-1.amazonaws.com/t10k-images-idx3-ubyte.gz to /root/.pytorch/F_MNIST_data/FashionMNIST/raw/t10k-images-idx3-ubyte.gz\n"
          ]
        },
        {
          "output_type": "stream",
          "name": "stderr",
          "text": [
            "100%|██████████| 4422102/4422102 [00:01<00:00, 3712859.94it/s]\n"
          ]
        },
        {
          "output_type": "stream",
          "name": "stdout",
          "text": [
            "Extracting /root/.pytorch/F_MNIST_data/FashionMNIST/raw/t10k-images-idx3-ubyte.gz to /root/.pytorch/F_MNIST_data/FashionMNIST/raw\n",
            "\n",
            "Downloading http://fashion-mnist.s3-website.eu-central-1.amazonaws.com/t10k-labels-idx1-ubyte.gz\n",
            "Downloading http://fashion-mnist.s3-website.eu-central-1.amazonaws.com/t10k-labels-idx1-ubyte.gz to /root/.pytorch/F_MNIST_data/FashionMNIST/raw/t10k-labels-idx1-ubyte.gz\n"
          ]
        },
        {
          "output_type": "stream",
          "name": "stderr",
          "text": [
            "100%|██████████| 5148/5148 [00:00<00:00, 14870714.18it/s]"
          ]
        },
        {
          "output_type": "stream",
          "name": "stdout",
          "text": [
            "Extracting /root/.pytorch/F_MNIST_data/FashionMNIST/raw/t10k-labels-idx1-ubyte.gz to /root/.pytorch/F_MNIST_data/FashionMNIST/raw\n",
            "\n"
          ]
        },
        {
          "output_type": "stream",
          "name": "stderr",
          "text": [
            "\n"
          ]
        }
      ],
      "source": [
        "# Define a transform to normalize the data\n",
        "transform = transforms.Compose([transforms.ToTensor(),\n",
        "                                transforms.Normalize((0.5,), (0.5,))])\n",
        "# Download and load the training data\n",
        "trainset = datasets.FashionMNIST('~/.pytorch/F_MNIST_data/', download=True, train=True, transform=transform)\n",
        "trainloader = torch.utils.data.DataLoader(trainset, batch_size=64, shuffle=True)\n",
        "\n",
        "# Download and load the test data\n",
        "testset = datasets.FashionMNIST('~/.pytorch/F_MNIST_data/', download=True, train=False, transform=transform)\n",
        "testloader = torch.utils.data.DataLoader(testset, batch_size=64, shuffle=True)"
      ]
    },
    {
      "cell_type": "markdown",
      "metadata": {
        "id": "TUoQiiNQsGuB"
      },
      "source": [
        "Here we can see one of the images."
      ]
    },
    {
      "cell_type": "code",
      "execution_count": 8,
      "metadata": {
        "id": "ocqkSANYsGuB",
        "outputId": "a45a0043-6cf8-43ad-d664-23c2f028798d",
        "colab": {
          "base_uri": "https://localhost:8080/",
          "height": 406
        }
      },
      "outputs": [
        {
          "output_type": "display_data",
          "data": {
            "text/plain": [
              "<Figure size 640x480 with 1 Axes>"
            ],
            "image/png": "[encoded data removed]"
          },
          "metadata": {
            "image/png": {
              "width": 389,
              "height": 389
            }
          }
        }
      ],
      "source": [
        "image, label = next(iter(trainloader))\n",
        "helper.imshow(image[0,:]);"
      ]
    },
    {
      "cell_type": "markdown",
      "metadata": {
        "id": "qh-TQn37sGuC"
      },
      "source": [
        "# Train a network\n",
        "\n",
        "To make things more concise here, I moved the model architecture and training code from the last part to a file called `fc_model`. Importing this, we can easily create a fully-connected network with `fc_model.Network`, and train the network using `fc_model.train`. I'll use this model (once it's trained) to demonstrate how we can save and load models."
      ]
    },
    {
      "cell_type": "code",
      "execution_count": 9,
      "metadata": {
        "id": "ja8qUGaGsGuD"
      },
      "outputs": [],
      "source": [
        "# Create the network, define the criterion and optimizer\n",
        "\n",
        "model = fc_model.Network(784, 10, [512, 256, 128])\n",
        "criterion = nn.NLLLoss()\n",
        "optimizer = optim.Adam(model.parameters(), lr=0.001)"
      ]
    },
    {
      "cell_type": "code",
      "execution_count": 10,
      "metadata": {
        "id": "SQHnNXAMsGuD",
        "outputId": "899499a4-96e5-4ff0-8640-0764a68cecbe",
        "colab": {
          "base_uri": "https://localhost:8080/"
        }
      },
      "outputs": [
        {
          "output_type": "stream",
          "name": "stdout",
          "text": [
            "Epoch: 1/2..  Training Loss: 1.731..  Test Loss: 0.934..  Test Accuracy: 0.651\n",
            "Epoch: 1/2..  Training Loss: 1.036..  Test Loss: 0.714..  Test Accuracy: 0.725\n",
            "Epoch: 1/2..  Training Loss: 0.850..  Test Loss: 0.689..  Test Accuracy: 0.739\n",
            "Epoch: 1/2..  Training Loss: 0.810..  Test Loss: 0.666..  Test Accuracy: 0.735\n",
            "Epoch: 1/2..  Training Loss: 0.782..  Test Loss: 0.623..  Test Accuracy: 0.763\n",
            "Epoch: 1/2..  Training Loss: 0.727..  Test Loss: 0.613..  Test Accuracy: 0.760\n",
            "Epoch: 1/2..  Training Loss: 0.726..  Test Loss: 0.582..  Test Accuracy: 0.785\n",
            "Epoch: 1/2..  Training Loss: 0.703..  Test Loss: 0.557..  Test Accuracy: 0.784\n",
            "Epoch: 1/2..  Training Loss: 0.674..  Test Loss: 0.578..  Test Accuracy: 0.779\n",
            "Epoch: 1/2..  Training Loss: 0.652..  Test Loss: 0.551..  Test Accuracy: 0.796\n",
            "Epoch: 1/2..  Training Loss: 0.675..  Test Loss: 0.532..  Test Accuracy: 0.799\n",
            "Epoch: 1/2..  Training Loss: 0.650..  Test Loss: 0.526..  Test Accuracy: 0.804\n",
            "Epoch: 1/2..  Training Loss: 0.611..  Test Loss: 0.537..  Test Accuracy: 0.798\n",
            "Epoch: 1/2..  Training Loss: 0.579..  Test Loss: 0.515..  Test Accuracy: 0.804\n",
            "Epoch: 1/2..  Training Loss: 0.576..  Test Loss: 0.499..  Test Accuracy: 0.815\n",
            "Epoch: 1/2..  Training Loss: 0.582..  Test Loss: 0.535..  Test Accuracy: 0.797\n",
            "Epoch: 1/2..  Training Loss: 0.597..  Test Loss: 0.501..  Test Accuracy: 0.808\n",
            "Epoch: 1/2..  Training Loss: 0.582..  Test Loss: 0.509..  Test Accuracy: 0.811\n",
            "Epoch: 1/2..  Training Loss: 0.586..  Test Loss: 0.507..  Test Accuracy: 0.816\n",
            "Epoch: 1/2..  Training Loss: 0.572..  Test Loss: 0.514..  Test Accuracy: 0.809\n",
            "Epoch: 1/2..  Training Loss: 0.605..  Test Loss: 0.492..  Test Accuracy: 0.822\n",
            "Epoch: 1/2..  Training Loss: 0.552..  Test Loss: 0.482..  Test Accuracy: 0.826\n",
            "Epoch: 1/2..  Training Loss: 0.544..  Test Loss: 0.478..  Test Accuracy: 0.823\n",
            "Epoch: 2/2..  Training Loss: 0.577..  Test Loss: 0.486..  Test Accuracy: 0.822\n",
            "Epoch: 2/2..  Training Loss: 0.555..  Test Loss: 0.486..  Test Accuracy: 0.820\n",
            "Epoch: 2/2..  Training Loss: 0.560..  Test Loss: 0.495..  Test Accuracy: 0.815\n",
            "Epoch: 2/2..  Training Loss: 0.549..  Test Loss: 0.479..  Test Accuracy: 0.821\n",
            "Epoch: 2/2..  Training Loss: 0.552..  Test Loss: 0.478..  Test Accuracy: 0.825\n",
            "Epoch: 2/2..  Training Loss: 0.554..  Test Loss: 0.464..  Test Accuracy: 0.829\n",
            "Epoch: 2/2..  Training Loss: 0.556..  Test Loss: 0.493..  Test Accuracy: 0.826\n",
            "Epoch: 2/2..  Training Loss: 0.561..  Test Loss: 0.456..  Test Accuracy: 0.832\n",
            "Epoch: 2/2..  Training Loss: 0.540..  Test Loss: 0.458..  Test Accuracy: 0.829\n",
            "Epoch: 2/2..  Training Loss: 0.525..  Test Loss: 0.466..  Test Accuracy: 0.824\n",
            "Epoch: 2/2..  Training Loss: 0.517..  Test Loss: 0.468..  Test Accuracy: 0.832\n",
            "Epoch: 2/2..  Training Loss: 0.545..  Test Loss: 0.459..  Test Accuracy: 0.831\n",
            "Epoch: 2/2..  Training Loss: 0.508..  Test Loss: 0.469..  Test Accuracy: 0.827\n",
            "Epoch: 2/2..  Training Loss: 0.532..  Test Loss: 0.450..  Test Accuracy: 0.831\n",
            "Epoch: 2/2..  Training Loss: 0.526..  Test Loss: 0.448..  Test Accuracy: 0.841\n",
            "Epoch: 2/2..  Training Loss: 0.523..  Test Loss: 0.464..  Test Accuracy: 0.828\n",
            "Epoch: 2/2..  Training Loss: 0.519..  Test Loss: 0.450..  Test Accuracy: 0.831\n",
            "Epoch: 2/2..  Training Loss: 0.524..  Test Loss: 0.463..  Test Accuracy: 0.833\n",
            "Epoch: 2/2..  Training Loss: 0.522..  Test Loss: 0.464..  Test Accuracy: 0.827\n",
            "Epoch: 2/2..  Training Loss: 0.519..  Test Loss: 0.454..  Test Accuracy: 0.831\n",
            "Epoch: 2/2..  Training Loss: 0.537..  Test Loss: 0.442..  Test Accuracy: 0.841\n",
            "Epoch: 2/2..  Training Loss: 0.498..  Test Loss: 0.442..  Test Accuracy: 0.836\n",
            "Epoch: 2/2..  Training Loss: 0.492..  Test Loss: 0.429..  Test Accuracy: 0.841\n"
          ]
        }
      ],
      "source": [
        "fc_model.train(model, trainloader, testloader, criterion, optimizer, epochs=2)"
      ]
    },
    {
      "cell_type": "markdown",
      "metadata": {
        "id": "bPXQE34nsGuD"
      },
      "source": [
        "## Saving and loading networks\n",
        "\n",
        "As you can imagine, it's impractical to train a network every time you need to use it. Instead, we can save trained networks then load them later to train more or use them for predictions.\n",
        "\n",
        "The parameters for PyTorch networks are stored in a model's `state_dict`. We can see the state dict contains the weight and bias matrices for each of our layers."
      ]
    },
    {
      "cell_type": "code",
      "execution_count": 11,
      "metadata": {
        "id": "bHZcBSiFsGuE",
        "outputId": "73ac58f5-2504-49cb-e64d-dea66321dce8",
        "colab": {
          "base_uri": "https://localhost:8080/"
        }
      },
      "outputs": [
        {
          "output_type": "stream",
          "name": "stdout",
          "text": [
            "Our model: \n",
            "\n",
            " Network(\n",
            "  (hidden_layers): ModuleList(\n",
            "    (0): Linear(in_features=784, out_features=512, bias=True)\n",
            "    (1): Linear(in_features=512, out_features=256, bias=True)\n",
            "    (2): Linear(in_features=256, out_features=128, bias=True)\n",
            "  )\n",
            "  (output): Linear(in_features=128, out_features=10, bias=True)\n",
            "  (dropout): Dropout(p=0.5, inplace=False)\n",
            ") \n",
            "\n",
            "The state dict keys: \n",
            "\n",
            " odict_keys(['hidden_layers.0.weight', 'hidden_layers.0.bias', 'hidden_layers.1.weight', 'hidden_layers.1.bias', 'hidden_layers.2.weight', 'hidden_layers.2.bias', 'output.weight', 'output.bias'])\n"
          ]
        }
      ],
      "source": [
        "print(\"Our model: \\n\\n\", model, '\\n')\n",
        "print(\"The state dict keys: \\n\\n\", model.state_dict().keys())"
      ]
    },
    {
      "cell_type": "markdown",
      "metadata": {
        "id": "e2zN8aYAsGuE"
      },
      "source": [
        "The simplest thing to do is simply save the state dict with `torch.save`. For example, we can save it to a file `'checkpoint.pth'`."
      ]
    },
    {
      "cell_type": "code",
      "execution_count": 12,
      "metadata": {
        "id": "L_B1bIBrsGuE"
      },
      "outputs": [],
      "source": [
        "torch.save(model.state_dict(), 'checkpoint.pth')"
      ]
    },
    {
      "cell_type": "markdown",
      "metadata": {
        "id": "6SfndYT9sGuE"
      },
      "source": [
        "Then we can load the state dict with `torch.load`."
      ]
    },
    {
      "cell_type": "code",
      "execution_count": 13,
      "metadata": {
        "id": "HKVUMa9fsGuF",
        "outputId": "3b59ac52-f5b6-4920-e840-99fbe9a649a0",
        "colab": {
          "base_uri": "https://localhost:8080/"
        }
      },
      "outputs": [
        {
          "output_type": "stream",
          "name": "stdout",
          "text": [
            "odict_keys(['hidden_layers.0.weight', 'hidden_layers.0.bias', 'hidden_layers.1.weight', 'hidden_layers.1.bias', 'hidden_layers.2.weight', 'hidden_layers.2.bias', 'output.weight', 'output.bias'])\n"
          ]
        }
      ],
      "source": [
        "state_dict = torch.load('checkpoint.pth')\n",
        "print(state_dict.keys())"
      ]
    },
    {
      "cell_type": "markdown",
      "metadata": {
        "id": "NPa5Gr3HsGuF"
      },
      "source": [
        "And to load the state dict in to the network, you do `model.load_state_dict(state_dict)`."
      ]
    },
    {
      "cell_type": "code",
      "execution_count": 14,
      "metadata": {
        "id": "aayk1ImzsGuF",
        "outputId": "251b8d4b-e7eb-43ca-f57c-b9ced892dd27",
        "colab": {
          "base_uri": "https://localhost:8080/"
        }
      },
      "outputs": [
        {
          "output_type": "execute_result",
          "data": {
            "text/plain": [
              "<All keys matched successfully>"
            ]
          },
          "metadata": {},
          "execution_count": 14
        }
      ],
      "source": [
        "model.load_state_dict(state_dict)"
      ]
    },
    {
      "cell_type": "markdown",
      "metadata": {
        "id": "M4582OhdsGuF"
      },
      "source": [
        "Seems pretty straightforward, but as usual it's a bit more complicated. Loading the state dict works only if the model architecture is exactly the same as the checkpoint architecture. If I create a model with a different architecture, this fails."
      ]
    },
    {
      "cell_type": "code",
      "execution_count": null,
      "metadata": {
        "id": "dz0VHZFpsGuF"
      },
      "outputs": [],
      "source": [
        "# Try this\n",
        "model = fc_model.Network(784, 10, [400, 200, 100])\n",
        "# This will throw an error because the tensor sizes are wrong!\n",
        "model.load_state_dict(state_dict)"
      ]
    },
    {
      "cell_type": "markdown",
      "metadata": {
        "id": "sFLcv6z7sGuF"
      },
      "source": [
        "This means we need to rebuild the model exactly as it was when trained. Information about the model architecture needs to be saved in the checkpoint, along with the state dict. To do this, you build a dictionary with all the information you need to compeletely rebuild the model."
      ]
    },
    {
      "cell_type": "code",
      "execution_count": 19,
      "metadata": {
        "id": "HJjWTYCusGuF"
      },
      "outputs": [],
      "source": [
        "checkpoint = {'input_size': 784,\n",
        "              'output_size': 10,\n",
        "              'hidden_layers': [each.out_features for each in model.hidden_layers],\n",
        "              'state_dict': model.state_dict()}\n",
        "\n",
        "torch.save(checkpoint, 'checkpoint.pth')"
      ]
    },
    {
      "cell_type": "markdown",
      "metadata": {
        "id": "tGPkV-pmsGuG"
      },
      "source": [
        "Now the checkpoint has all the necessary information to rebuild the trained model. You can easily make that a function if you want. Similarly, we can write a function to load checkpoints."
      ]
    },
    {
      "cell_type": "code",
      "execution_count": 20,
      "metadata": {
        "id": "eY3-joHDsGuG"
      },
      "outputs": [],
      "source": [
        "def load_checkpoint(filepath):\n",
        "    checkpoint = torch.load(filepath)\n",
        "    model = fc_model.Network(checkpoint['input_size'],\n",
        "                             checkpoint['output_size'],\n",
        "                             checkpoint['hidden_layers'])\n",
        "    model.load_state_dict(checkpoint['state_dict'])\n",
        "\n",
        "    return model"
      ]
    },
    {
      "cell_type": "code",
      "execution_count": 21,
      "metadata": {
        "id": "ovTcKYKRsGuG",
        "outputId": "52caf8d1-5331-4e2c-a63a-f8b2c795efe8",
        "colab": {
          "base_uri": "https://localhost:8080/"
        }
      },
      "outputs": [
        {
          "output_type": "stream",
          "name": "stdout",
          "text": [
            "Network(\n",
            "  (hidden_layers): ModuleList(\n",
            "    (0): Linear(in_features=784, out_features=400, bias=True)\n",
            "    (1): Linear(in_features=400, out_features=200, bias=True)\n",
            "    (2): Linear(in_features=200, out_features=100, bias=True)\n",
            "  )\n",
            "  (output): Linear(in_features=100, out_features=10, bias=True)\n",
            "  (dropout): Dropout(p=0.5, inplace=False)\n",
            ")\n"
          ]
        }
      ],
      "source": [
        "model = load_checkpoint('checkpoint.pth')\n",
        "print(model)"
      ]
    },
    {
      "cell_type": "code",
      "source": [],
      "metadata": {
        "id": "daNUyqhnyDlY"
      },
      "execution_count": null,
      "outputs": []
    }
  ],
  "metadata": {
    "kernelspec": {
      "display_name": "Python 3",
      "language": "python",
      "name": "python3"
    },
    "language_info": {
      "codemirror_mode": {
        "name": "ipython",
        "version": 3
      },
      "file_extension": ".py",
      "mimetype": "text/x-python",
      "name": "python",
      "nbconvert_exporter": "python",
      "pygments_lexer": "ipython3",
      "version": "3.6.6"
    },
    "colab": {
      "provenance": [],
      "include_colab_link": true
    }
  },
  "nbformat": 4,
  "nbformat_minor": 0
}